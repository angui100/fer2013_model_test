{
  "nbformat": 4,
  "nbformat_minor": 0,
  "metadata": {
    "colab": {
      "name": "Untitled14.ipynb",
      "version": "0.3.2",
      "provenance": [],
      "collapsed_sections": [],
      "include_colab_link": true
    },
    "kernelspec": {
      "name": "python3",
      "display_name": "Python 3"
    },
    "accelerator": "GPU"
  },
  "cells": [
    {
      "cell_type": "markdown",
      "metadata": {
        "id": "view-in-github",
        "colab_type": "text"
      },
      "source": [
        "<a href=\"https://colab.research.google.com/github/angui100/fer2013_model_test/blob/master/Fer2013_Model_Train.ipynb\" target=\"_parent\"><img src=\"https://colab.research.google.com/assets/colab-badge.svg\" alt=\"Open In Colab\"/></a>"
      ]
    },
    {
      "cell_type": "code",
      "metadata": {
        "id": "1K9dYiWW1GZI",
        "colab_type": "code",
        "colab": {
          "base_uri": "https://localhost:8080/",
          "height": 34
        },
        "outputId": "cbdcdc55-146b-482f-f3d9-75b33ec6fee0"
      },
      "source": [
        "import sys, os\n",
        "import pandas as pd\n",
        "import numpy as np\n",
        "import cv2\n",
        "from sklearn.model_selection import train_test_split\n",
        "from keras.models import Sequential\n",
        "from keras.preprocessing.image import ImageDataGenerator\n",
        "from keras.layers import Dense, Dropout, Activation, Flatten\n",
        "from keras.layers import Conv2D, MaxPooling2D, BatchNormalization\n",
        "from keras.losses import categorical_crossentropy\n",
        "from keras.optimizers import Adam\n",
        "from keras.regularizers import l2\n",
        "from keras.callbacks import ReduceLROnPlateau, TensorBoard, EarlyStopping, ModelCheckpoint\n",
        "from keras.models import load_model\n",
        "from keras.models import Sequential\n",
        "from keras.layers import Dense\n",
        "from keras.models import model_from_json\n"
      ],
      "execution_count": 1,
      "outputs": [
        {
          "output_type": "stream",
          "text": [
            "Using TensorFlow backend.\n"
          ],
          "name": "stderr"
        }
      ]
    },
    {
      "cell_type": "code",
      "metadata": {
        "id": "To6qZhD81xGL",
        "colab_type": "code",
        "colab": {}
      },
      "source": [
        "num_features = 64\n",
        "num_labels = 3\n",
        "batch_size = 64\n",
        "epochs = 100\n",
        "width, height = 48, 48"
      ],
      "execution_count": 0,
      "outputs": []
    },
    {
      "cell_type": "code",
      "metadata": {
        "id": "OlK6BhjyQ5db",
        "colab_type": "code",
        "colab": {}
      },
      "source": [
        "#Mount your google drive\n",
        "#from google.colab import drive\n",
        "#drive.mount('/content/drive')\n",
        "#emotion_dict = {0: \"Angry\", 1: \"Disgust\", 2: \"Fear\", 3: \"Happy\", 4: \"Sad\", 5: \"Surprise\", 6: \"Neutral\"}\n",
        "#Following are labels\n",
        "#Calm 6\n",
        "#Surprise & Fear 5 & 2\n",
        "#Anger 0\n"
      ],
      "execution_count": 0,
      "outputs": []
    },
    {
      "cell_type": "code",
      "metadata": {
        "id": "Q5J9XkWcV4_S",
        "colab_type": "code",
        "outputId": "55e3a52b-e459-40b8-943b-a27f4439b18a",
        "colab": {
          "base_uri": "https://localhost:8080/",
          "height": 122
        }
      },
      "source": [
        "from google.colab import drive\n",
        "drive.mount('/content/drive')"
      ],
      "execution_count": 3,
      "outputs": [
        {
          "output_type": "stream",
          "text": [
            "Go to this URL in a browser: https://accounts.google.com/o/oauth2/auth?client_id=947318989803-6bn6qk8qdgf4n4g3pfee6491hc0brc4i.apps.googleusercontent.com&redirect_uri=urn%3Aietf%3Awg%3Aoauth%3A2.0%3Aoob&scope=email%20https%3A%2F%2Fwww.googleapis.com%2Fauth%2Fdocs.test%20https%3A%2F%2Fwww.googleapis.com%2Fauth%2Fdrive%20https%3A%2F%2Fwww.googleapis.com%2Fauth%2Fdrive.photos.readonly%20https%3A%2F%2Fwww.googleapis.com%2Fauth%2Fpeopleapi.readonly&response_type=code\n",
            "\n",
            "Enter your authorization code:\n",
            "··········\n",
            "Mounted at /content/drive\n"
          ],
          "name": "stdout"
        }
      ]
    },
    {
      "cell_type": "code",
      "metadata": {
        "id": "2FnHICpsbNbq",
        "colab_type": "code",
        "colab": {}
      },
      "source": [
        "#https://drive.google.com/open?id=1OnveSEG0q5CwEQeZOW3QotcL_GK4UZ2l\n",
        "#/content/drive/My Drive/dataset/fer2013.csv\n",
        "root_path = '/content/drive/My Drive/dataset/fer2013.csv'"
      ],
      "execution_count": 0,
      "outputs": []
    },
    {
      "cell_type": "code",
      "metadata": {
        "id": "MXX-I0jU1yUD",
        "colab_type": "code",
        "colab": {}
      },
      "source": [
        "data = pd.read_csv(root_path)"
      ],
      "execution_count": 0,
      "outputs": []
    },
    {
      "cell_type": "code",
      "metadata": {
        "id": "CfsgviCx2W74",
        "colab_type": "code",
        "outputId": "48f9a56e-94c7-4f77-e638-5a3004e10250",
        "colab": {
          "base_uri": "https://localhost:8080/",
          "height": 204
        }
      },
      "source": [
        "data.tail()"
      ],
      "execution_count": 7,
      "outputs": [
        {
          "output_type": "execute_result",
          "data": {
            "text/html": [
              "<div>\n",
              "<style scoped>\n",
              "    .dataframe tbody tr th:only-of-type {\n",
              "        vertical-align: middle;\n",
              "    }\n",
              "\n",
              "    .dataframe tbody tr th {\n",
              "        vertical-align: top;\n",
              "    }\n",
              "\n",
              "    .dataframe thead th {\n",
              "        text-align: right;\n",
              "    }\n",
              "</style>\n",
              "<table border=\"1\" class=\"dataframe\">\n",
              "  <thead>\n",
              "    <tr style=\"text-align: right;\">\n",
              "      <th></th>\n",
              "      <th>emotion</th>\n",
              "      <th>pixels</th>\n",
              "      <th>Usage</th>\n",
              "    </tr>\n",
              "  </thead>\n",
              "  <tbody>\n",
              "    <tr>\n",
              "      <th>35882</th>\n",
              "      <td>6</td>\n",
              "      <td>50 36 17 22 23 29 33 39 34 37 37 37 39 43 48 5...</td>\n",
              "      <td>PrivateTest</td>\n",
              "    </tr>\n",
              "    <tr>\n",
              "      <th>35883</th>\n",
              "      <td>3</td>\n",
              "      <td>178 174 172 173 181 188 191 194 196 199 200 20...</td>\n",
              "      <td>PrivateTest</td>\n",
              "    </tr>\n",
              "    <tr>\n",
              "      <th>35884</th>\n",
              "      <td>0</td>\n",
              "      <td>17 17 16 23 28 22 19 17 25 26 20 24 31 19 27 9...</td>\n",
              "      <td>PrivateTest</td>\n",
              "    </tr>\n",
              "    <tr>\n",
              "      <th>35885</th>\n",
              "      <td>3</td>\n",
              "      <td>30 28 28 29 31 30 42 68 79 81 77 67 67 71 63 6...</td>\n",
              "      <td>PrivateTest</td>\n",
              "    </tr>\n",
              "    <tr>\n",
              "      <th>35886</th>\n",
              "      <td>2</td>\n",
              "      <td>19 13 14 12 13 16 21 33 50 57 71 84 97 108 122...</td>\n",
              "      <td>PrivateTest</td>\n",
              "    </tr>\n",
              "  </tbody>\n",
              "</table>\n",
              "</div>"
            ],
            "text/plain": [
              "       emotion                                             pixels        Usage\n",
              "35882        6  50 36 17 22 23 29 33 39 34 37 37 37 39 43 48 5...  PrivateTest\n",
              "35883        3  178 174 172 173 181 188 191 194 196 199 200 20...  PrivateTest\n",
              "35884        0  17 17 16 23 28 22 19 17 25 26 20 24 31 19 27 9...  PrivateTest\n",
              "35885        3  30 28 28 29 31 30 42 68 79 81 77 67 67 71 63 6...  PrivateTest\n",
              "35886        2  19 13 14 12 13 16 21 33 50 57 71 84 97 108 122...  PrivateTest"
            ]
          },
          "metadata": {
            "tags": []
          },
          "execution_count": 7
        }
      ]
    },
    {
      "cell_type": "code",
      "metadata": {
        "id": "6J0L_kEyRhvA",
        "colab_type": "code",
        "colab": {}
      },
      "source": [
        "\n",
        "#Remove parts of the data from the dataset to make small part training.\n",
        "indexNames_1 = data[ data['emotion'] == 1].index\n",
        "indexNames_3 = data[ data['emotion'] == 3].index\n",
        "indexNames_4 = data[ data['emotion'] == 4].index\n",
        " \n",
        "data.drop(indexNames_1 , inplace=True)\n",
        "#data.drop(indexNames_3 , inplace=True)\n",
        "#data.drop(indexNames_4 , inplace=True)"
      ],
      "execution_count": 0,
      "outputs": []
    },
    {
      "cell_type": "code",
      "metadata": {
        "id": "RvSoESb2K_UJ",
        "colab_type": "code",
        "colab": {}
      },
      "source": [
        "data.drop(indexNames_3 , inplace=True)"
      ],
      "execution_count": 0,
      "outputs": []
    },
    {
      "cell_type": "code",
      "metadata": {
        "id": "8WoyuyWULFGk",
        "colab_type": "code",
        "colab": {}
      },
      "source": [
        "data.drop(indexNames_4 , inplace=True)"
      ],
      "execution_count": 0,
      "outputs": []
    },
    {
      "cell_type": "code",
      "metadata": {
        "id": "LQ_nzUOaEmKU",
        "colab_type": "code",
        "colab": {
          "base_uri": "https://localhost:8080/",
          "height": 102
        },
        "outputId": "d381ba9a-3e1a-42c5-f4cd-a87813424543"
      },
      "source": [
        "data.groupby('emotion').size()"
      ],
      "execution_count": 15,
      "outputs": [
        {
          "output_type": "execute_result",
          "data": {
            "text/plain": [
              "emotion\n",
              "0    4953\n",
              "2    9123\n",
              "6    6198\n",
              "dtype: int64"
            ]
          },
          "metadata": {
            "tags": []
          },
          "execution_count": 15
        }
      ]
    },
    {
      "cell_type": "code",
      "metadata": {
        "id": "-dCM7giCFXEd",
        "colab_type": "code",
        "colab": {}
      },
      "source": [
        "#update 5 with 2\n",
        "data.loc[data['emotion'] == 5, 'emotion'] = 2\n",
        "\n",
        "#print(data['emotion']==1)"
      ],
      "execution_count": 0,
      "outputs": []
    },
    {
      "cell_type": "code",
      "metadata": {
        "id": "GCJy897U2eMz",
        "colab_type": "code",
        "outputId": "2ad8a48b-fae3-4cb1-e20c-71fca8e250a6",
        "colab": {
          "base_uri": "https://localhost:8080/",
          "height": 54
        }
      },
      "source": [
        "pixels = data['pixels'].tolist() # 1\n",
        "\n",
        "faces = []\n",
        "for pixel_sequence in pixels:\n",
        "    face = [int(pixel)/255 for pixel in pixel_sequence.split(' ')] # 2\n",
        "    if (len(face)) < 2304:\n",
        "      print(\"array length less than 2304\")\n",
        "      continue\n",
        "    face = np.asarray(face).reshape(width, height) # 3\n",
        "    \n",
        "    # There is an issue for normalizing images. Just comment out 4 and 5 lines until when I found the solution.\n",
        "    #face = face / 255.0 # 4\n",
        "    #face = cv2.resize(face.astype('uint8'), (width, height)) # 5\n",
        "    #face = face / 255.0\n",
        "    faces.append(face.astype('float32'))\n",
        "\n",
        "faces = np.asarray(faces)\n",
        "faces = np.expand_dims(faces, -1) # 6\n",
        "\n",
        "emotions = pd.get_dummies(data['emotion']).as_matrix() # 7\n",
        "#print( emotions )"
      ],
      "execution_count": 16,
      "outputs": [
        {
          "output_type": "stream",
          "text": [
            "/usr/local/lib/python3.6/dist-packages/ipykernel_launcher.py:20: FutureWarning: Method .as_matrix will be removed in a future version. Use .values instead.\n"
          ],
          "name": "stderr"
        }
      ]
    },
    {
      "cell_type": "code",
      "metadata": {
        "id": "tZ5_So1a5vLn",
        "colab_type": "code",
        "colab": {}
      },
      "source": [
        "X_train, X_test, y_train, y_test = train_test_split(faces, emotions, test_size=0.1, random_state=42)\n",
        "X_train, X_val, y_train, y_val = train_test_split(X_train, y_train, test_size=0.1, random_state=41)\n",
        "\n",
        "#print(y_train)\n"
      ],
      "execution_count": 0,
      "outputs": []
    },
    {
      "cell_type": "code",
      "metadata": {
        "id": "007bzkFIUaGY",
        "colab_type": "code",
        "colab": {}
      },
      "source": [
        "#datagen = ImageDataGenerator(featurewise_center=True, featurewise_std_normalization=True)\n",
        "# fit parameters from data\n",
        "zca_whitening=False\n",
        "rotation_angle=15\n",
        "shift_range=0.1\n",
        "zoom_range=0.1\n",
        "horizontal_flip=True\n",
        "time_delay=None\n",
        "#datagen.fit(X_train)\n",
        "datagen = ImageDataGenerator(featurewise_center=True,\n",
        "                              featurewise_std_normalization=True,\n",
        "                              zca_whitening=zca_whitening,\n",
        "                              rotation_range=15,\n",
        "                              width_shift_range=shift_range,\n",
        "                              height_shift_range=shift_range,\n",
        "                              horizontal_flip=horizontal_flip,\n",
        "                              fill_mode=\"nearest\",\n",
        "                              zoom_range=zoom_range)\n",
        "                              #time_delay=time_delay)\n",
        "datagen.fit(X_train)\n",
        "#data_gen.flow(self.images, self.labels, batch_size=batch_size, target_dimensions=target_dimensions)\n",
        "#self.model.compile(optimizer=Adam(lr=0.001, beta_1=0.9, beta_2=0.999, epsilon=1e-7), loss=categorical_crossentropy, metrics=['accuracy'])\n",
        "#self.model.fit_generator(generator=generator, validation_data=validation_data, epochs=epochs,\n",
        "                                 #callbacks=[ReduceLROnPlateau(), EarlyStopping(patience=3), PlotLosses()])"
      ],
      "execution_count": 0,
      "outputs": []
    },
    {
      "cell_type": "code",
      "metadata": {
        "id": "Rtm02BJ67Ks_",
        "colab_type": "code",
        "outputId": "9e7ecd26-3839-43bf-8b2a-3c0e3ac5397a",
        "colab": {
          "base_uri": "https://localhost:8080/",
          "height": 326
        }
      },
      "source": [
        "model = Sequential()\n",
        "\n",
        "model.add(Conv2D(num_features, kernel_size=(3, 3), activation='relu', input_shape=(width, height, 1), data_format='channels_last', kernel_regularizer=l2(0.01)))\n",
        "model.add(Conv2D(num_features, kernel_size=(3, 3), activation='relu', padding='same'))\n",
        "model.add(BatchNormalization())\n",
        "model.add(MaxPooling2D(pool_size=(2, 2), strides=(2, 2)))\n",
        "model.add(Dropout(0.5))\n",
        "\n",
        "model.add(Conv2D(2*num_features, kernel_size=(3, 3), activation='relu', padding='same'))\n",
        "model.add(BatchNormalization())\n",
        "model.add(Conv2D(2*num_features, kernel_size=(3, 3), activation='relu', padding='same'))\n",
        "model.add(BatchNormalization())\n",
        "model.add(MaxPooling2D(pool_size=(2, 2), strides=(2, 2)))\n",
        "model.add(Dropout(0.5))\n",
        "\n",
        "model.add(Conv2D(2*2*num_features, kernel_size=(3, 3), activation='relu', padding='same'))\n",
        "model.add(BatchNormalization())\n",
        "model.add(Conv2D(2*2*num_features, kernel_size=(3, 3), activation='relu', padding='same'))\n",
        "model.add(BatchNormalization())\n",
        "model.add(MaxPooling2D(pool_size=(2, 2), strides=(2, 2)))\n",
        "model.add(Dropout(0.5))\n",
        "\n",
        "model.add(Conv2D(2*2*2*num_features, kernel_size=(3, 3), activation='relu', padding='same'))\n",
        "model.add(BatchNormalization())\n",
        "model.add(Conv2D(2*2*2*num_features, kernel_size=(3, 3), activation='relu', padding='same'))\n",
        "model.add(BatchNormalization())\n",
        "model.add(MaxPooling2D(pool_size=(2, 2), strides=(2, 2)))\n",
        "model.add(Dropout(0.5))\n",
        "\n",
        "model.add(Flatten())\n",
        "\n",
        "model.add(Dense(2*2*2*num_features, activation='relu'))\n",
        "model.add(Dropout(0.4))\n",
        "model.add(Dense(2*2*num_features, activation='relu'))\n",
        "model.add(Dropout(0.4))\n",
        "model.add(Dense(2*num_features, activation='relu'))\n",
        "model.add(Dropout(0.5))\n",
        "\n",
        "model.add(Dense(num_labels, activation='softmax'))"
      ],
      "execution_count": 18,
      "outputs": [
        {
          "output_type": "stream",
          "text": [
            "WARNING:tensorflow:From /usr/local/lib/python3.6/dist-packages/keras/backend/tensorflow_backend.py:66: The name tf.get_default_graph is deprecated. Please use tf.compat.v1.get_default_graph instead.\n",
            "\n",
            "WARNING:tensorflow:From /usr/local/lib/python3.6/dist-packages/keras/backend/tensorflow_backend.py:541: The name tf.placeholder is deprecated. Please use tf.compat.v1.placeholder instead.\n",
            "\n",
            "WARNING:tensorflow:From /usr/local/lib/python3.6/dist-packages/keras/backend/tensorflow_backend.py:4432: The name tf.random_uniform is deprecated. Please use tf.random.uniform instead.\n",
            "\n",
            "WARNING:tensorflow:From /usr/local/lib/python3.6/dist-packages/keras/backend/tensorflow_backend.py:190: The name tf.get_default_session is deprecated. Please use tf.compat.v1.get_default_session instead.\n",
            "\n",
            "WARNING:tensorflow:From /usr/local/lib/python3.6/dist-packages/keras/backend/tensorflow_backend.py:197: The name tf.ConfigProto is deprecated. Please use tf.compat.v1.ConfigProto instead.\n",
            "\n",
            "WARNING:tensorflow:From /usr/local/lib/python3.6/dist-packages/keras/backend/tensorflow_backend.py:2041: The name tf.nn.fused_batch_norm is deprecated. Please use tf.compat.v1.nn.fused_batch_norm instead.\n",
            "\n",
            "WARNING:tensorflow:From /usr/local/lib/python3.6/dist-packages/keras/backend/tensorflow_backend.py:4267: The name tf.nn.max_pool is deprecated. Please use tf.nn.max_pool2d instead.\n",
            "\n",
            "WARNING:tensorflow:From /usr/local/lib/python3.6/dist-packages/keras/backend/tensorflow_backend.py:3733: calling dropout (from tensorflow.python.ops.nn_ops) with keep_prob is deprecated and will be removed in a future version.\n",
            "Instructions for updating:\n",
            "Please use `rate` instead of `keep_prob`. Rate should be set to `rate = 1 - keep_prob`.\n"
          ],
          "name": "stdout"
        }
      ]
    },
    {
      "cell_type": "code",
      "metadata": {
        "id": "mOtVcpzd7lYg",
        "colab_type": "code",
        "outputId": "b349f988-d6d9-42bf-e562-b415e6d252a0",
        "colab": {
          "base_uri": "https://localhost:8080/",
          "height": 1000
        }
      },
      "source": [
        "model.summary()"
      ],
      "execution_count": 19,
      "outputs": [
        {
          "output_type": "stream",
          "text": [
            "Model: \"sequential_1\"\n",
            "_________________________________________________________________\n",
            "Layer (type)                 Output Shape              Param #   \n",
            "=================================================================\n",
            "conv2d_1 (Conv2D)            (None, 46, 46, 64)        640       \n",
            "_________________________________________________________________\n",
            "conv2d_2 (Conv2D)            (None, 46, 46, 64)        36928     \n",
            "_________________________________________________________________\n",
            "batch_normalization_1 (Batch (None, 46, 46, 64)        256       \n",
            "_________________________________________________________________\n",
            "max_pooling2d_1 (MaxPooling2 (None, 23, 23, 64)        0         \n",
            "_________________________________________________________________\n",
            "dropout_1 (Dropout)          (None, 23, 23, 64)        0         \n",
            "_________________________________________________________________\n",
            "conv2d_3 (Conv2D)            (None, 23, 23, 128)       73856     \n",
            "_________________________________________________________________\n",
            "batch_normalization_2 (Batch (None, 23, 23, 128)       512       \n",
            "_________________________________________________________________\n",
            "conv2d_4 (Conv2D)            (None, 23, 23, 128)       147584    \n",
            "_________________________________________________________________\n",
            "batch_normalization_3 (Batch (None, 23, 23, 128)       512       \n",
            "_________________________________________________________________\n",
            "max_pooling2d_2 (MaxPooling2 (None, 11, 11, 128)       0         \n",
            "_________________________________________________________________\n",
            "dropout_2 (Dropout)          (None, 11, 11, 128)       0         \n",
            "_________________________________________________________________\n",
            "conv2d_5 (Conv2D)            (None, 11, 11, 256)       295168    \n",
            "_________________________________________________________________\n",
            "batch_normalization_4 (Batch (None, 11, 11, 256)       1024      \n",
            "_________________________________________________________________\n",
            "conv2d_6 (Conv2D)            (None, 11, 11, 256)       590080    \n",
            "_________________________________________________________________\n",
            "batch_normalization_5 (Batch (None, 11, 11, 256)       1024      \n",
            "_________________________________________________________________\n",
            "max_pooling2d_3 (MaxPooling2 (None, 5, 5, 256)         0         \n",
            "_________________________________________________________________\n",
            "dropout_3 (Dropout)          (None, 5, 5, 256)         0         \n",
            "_________________________________________________________________\n",
            "conv2d_7 (Conv2D)            (None, 5, 5, 512)         1180160   \n",
            "_________________________________________________________________\n",
            "batch_normalization_6 (Batch (None, 5, 5, 512)         2048      \n",
            "_________________________________________________________________\n",
            "conv2d_8 (Conv2D)            (None, 5, 5, 512)         2359808   \n",
            "_________________________________________________________________\n",
            "batch_normalization_7 (Batch (None, 5, 5, 512)         2048      \n",
            "_________________________________________________________________\n",
            "max_pooling2d_4 (MaxPooling2 (None, 2, 2, 512)         0         \n",
            "_________________________________________________________________\n",
            "dropout_4 (Dropout)          (None, 2, 2, 512)         0         \n",
            "_________________________________________________________________\n",
            "flatten_1 (Flatten)          (None, 2048)              0         \n",
            "_________________________________________________________________\n",
            "dense_1 (Dense)              (None, 512)               1049088   \n",
            "_________________________________________________________________\n",
            "dropout_5 (Dropout)          (None, 512)               0         \n",
            "_________________________________________________________________\n",
            "dense_2 (Dense)              (None, 256)               131328    \n",
            "_________________________________________________________________\n",
            "dropout_6 (Dropout)          (None, 256)               0         \n",
            "_________________________________________________________________\n",
            "dense_3 (Dense)              (None, 128)               32896     \n",
            "_________________________________________________________________\n",
            "dropout_7 (Dropout)          (None, 128)               0         \n",
            "_________________________________________________________________\n",
            "dense_4 (Dense)              (None, 3)                 387       \n",
            "=================================================================\n",
            "Total params: 5,905,347\n",
            "Trainable params: 5,901,635\n",
            "Non-trainable params: 3,712\n",
            "_________________________________________________________________\n"
          ],
          "name": "stdout"
        }
      ]
    },
    {
      "cell_type": "code",
      "metadata": {
        "id": "yNZmI1mr7wmg",
        "colab_type": "code",
        "outputId": "192ab928-eb60-436c-da2b-43a1465ee160",
        "colab": {
          "base_uri": "https://localhost:8080/",
          "height": 71
        }
      },
      "source": [
        "model.compile(loss=categorical_crossentropy,\n",
        "              optimizer=Adam(lr=0.001, beta_1=0.9, beta_2=0.999, epsilon=1e-7),\n",
        "              metrics=['accuracy'])"
      ],
      "execution_count": 20,
      "outputs": [
        {
          "output_type": "stream",
          "text": [
            "WARNING:tensorflow:From /usr/local/lib/python3.6/dist-packages/keras/optimizers.py:793: The name tf.train.Optimizer is deprecated. Please use tf.compat.v1.train.Optimizer instead.\n",
            "\n"
          ],
          "name": "stdout"
        }
      ]
    },
    {
      "cell_type": "code",
      "metadata": {
        "id": "NWWYRF2O8MY5",
        "colab_type": "code",
        "colab": {}
      },
      "source": [
        "lr_reducer = ReduceLROnPlateau(monitor='val_loss', factor=0.9, patience=3, verbose=1)"
      ],
      "execution_count": 0,
      "outputs": []
    },
    {
      "cell_type": "code",
      "metadata": {
        "id": "rPYGzLWP8SCa",
        "colab_type": "code",
        "colab": {}
      },
      "source": [
        "tensorboard = TensorBoard(log_dir='/content/drive/My Drive/dataset')"
      ],
      "execution_count": 0,
      "outputs": []
    },
    {
      "cell_type": "code",
      "metadata": {
        "id": "ekoX8ouw8dua",
        "colab_type": "code",
        "colab": {}
      },
      "source": [
        "early_stopper = EarlyStopping(monitor='val_loss', min_delta=0, patience=8, verbose=1, mode='auto')"
      ],
      "execution_count": 0,
      "outputs": []
    },
    {
      "cell_type": "code",
      "metadata": {
        "id": "d4-zaDAZ8iPy",
        "colab_type": "code",
        "colab": {}
      },
      "source": [
        "MODELPATH = '/content/drive/My Drive/dataset/model_T.h5'\n",
        "checkpointer = ModelCheckpoint(MODELPATH, monitor='val_loss', verbose=1, save_best_only=True)"
      ],
      "execution_count": 0,
      "outputs": []
    },
    {
      "cell_type": "code",
      "metadata": {
        "id": "XJ7KjiSS89Xx",
        "colab_type": "code",
        "outputId": "ddca5aa2-7e9a-4cc5-e2b6-74cbee91f306",
        "colab": {
          "base_uri": "https://localhost:8080/",
          "height": 1000
        }
      },
      "source": [
        "model.fit(np.array(X_train), np.array(y_train),\n",
        "          batch_size=batch_size,\n",
        "          epochs=60,\n",
        "          verbose=1,\n",
        "          validation_data=(np.array(X_test), np.array(y_test)),\n",
        "          shuffle=True,\n",
        "          callbacks=[lr_reducer, tensorboard, checkpointer])\n",
        "#callbacks=[lr_reducer, tensorboard, early_stopper, checkpointer]"
      ],
      "execution_count": 26,
      "outputs": [
        {
          "output_type": "stream",
          "text": [
            "WARNING:tensorflow:From /usr/local/lib/python3.6/dist-packages/tensorflow/python/ops/math_grad.py:1250: add_dispatch_support.<locals>.wrapper (from tensorflow.python.ops.array_ops) is deprecated and will be removed in a future version.\n",
            "Instructions for updating:\n",
            "Use tf.where in 2.0, which has the same broadcast rule as np.where\n",
            "Train on 16421 samples, validate on 2028 samples\n",
            "WARNING:tensorflow:From /usr/local/lib/python3.6/dist-packages/keras/callbacks.py:1122: The name tf.summary.merge_all is deprecated. Please use tf.compat.v1.summary.merge_all instead.\n",
            "\n",
            "WARNING:tensorflow:From /usr/local/lib/python3.6/dist-packages/keras/callbacks.py:1125: The name tf.summary.FileWriter is deprecated. Please use tf.compat.v1.summary.FileWriter instead.\n",
            "\n",
            "Epoch 1/60\n",
            "16421/16421 [==============================] - 38s 2ms/step - loss: 1.3061 - acc: 0.4022 - val_loss: 1.0804 - val_acc: 0.4763\n",
            "\n",
            "Epoch 00001: val_loss improved from inf to 1.08043, saving model to /content/drive/My Drive/dataset/model_T.h5\n",
            "Epoch 2/60\n",
            "16421/16421 [==============================] - 32s 2ms/step - loss: 1.0846 - acc: 0.4450 - val_loss: 1.0866 - val_acc: 0.4601\n",
            "\n",
            "Epoch 00002: val_loss did not improve from 1.08043\n",
            "Epoch 3/60\n",
            "16421/16421 [==============================] - 32s 2ms/step - loss: 1.0631 - acc: 0.4623 - val_loss: 1.1961 - val_acc: 0.4660\n",
            "\n",
            "Epoch 00003: val_loss did not improve from 1.08043\n",
            "Epoch 4/60\n",
            "16421/16421 [==============================] - 32s 2ms/step - loss: 1.0439 - acc: 0.4782 - val_loss: 1.1551 - val_acc: 0.2894\n",
            "\n",
            "Epoch 00004: ReduceLROnPlateau reducing learning rate to 0.0009000000427477062.\n",
            "\n",
            "Epoch 00004: val_loss did not improve from 1.08043\n",
            "Epoch 5/60\n",
            "16421/16421 [==============================] - 32s 2ms/step - loss: 1.0009 - acc: 0.5028 - val_loss: 1.0092 - val_acc: 0.4857\n",
            "\n",
            "Epoch 00005: val_loss improved from 1.08043 to 1.00922, saving model to /content/drive/My Drive/dataset/model_T.h5\n",
            "Epoch 6/60\n",
            "16421/16421 [==============================] - 32s 2ms/step - loss: 0.9549 - acc: 0.5385 - val_loss: 0.9469 - val_acc: 0.5286\n",
            "\n",
            "Epoch 00006: val_loss improved from 1.00922 to 0.94690, saving model to /content/drive/My Drive/dataset/model_T.h5\n",
            "Epoch 7/60\n",
            "16421/16421 [==============================] - 32s 2ms/step - loss: 0.9199 - acc: 0.5697 - val_loss: 1.0639 - val_acc: 0.5414\n",
            "\n",
            "Epoch 00007: val_loss did not improve from 0.94690\n",
            "Epoch 8/60\n",
            "16421/16421 [==============================] - 32s 2ms/step - loss: 0.8944 - acc: 0.5870 - val_loss: 0.8493 - val_acc: 0.6040\n",
            "\n",
            "Epoch 00008: val_loss improved from 0.94690 to 0.84927, saving model to /content/drive/My Drive/dataset/model_T.h5\n",
            "Epoch 9/60\n",
            "16421/16421 [==============================] - 32s 2ms/step - loss: 0.8623 - acc: 0.6090 - val_loss: 0.9532 - val_acc: 0.5202\n",
            "\n",
            "Epoch 00009: val_loss did not improve from 0.84927\n",
            "Epoch 10/60\n",
            "16421/16421 [==============================] - 32s 2ms/step - loss: 0.8336 - acc: 0.6238 - val_loss: 0.8809 - val_acc: 0.6006\n",
            "\n",
            "Epoch 00010: val_loss did not improve from 0.84927\n",
            "Epoch 11/60\n",
            "16421/16421 [==============================] - 32s 2ms/step - loss: 0.8154 - acc: 0.6431 - val_loss: 0.8364 - val_acc: 0.6021\n",
            "\n",
            "Epoch 00011: val_loss improved from 0.84927 to 0.83636, saving model to /content/drive/My Drive/dataset/model_T.h5\n",
            "Epoch 12/60\n",
            "16421/16421 [==============================] - 32s 2ms/step - loss: 0.8023 - acc: 0.6494 - val_loss: 0.8447 - val_acc: 0.5966\n",
            "\n",
            "Epoch 00012: val_loss did not improve from 0.83636\n",
            "Epoch 13/60\n",
            "16421/16421 [==============================] - 32s 2ms/step - loss: 0.7804 - acc: 0.6617 - val_loss: 0.7729 - val_acc: 0.6499\n",
            "\n",
            "Epoch 00013: val_loss improved from 0.83636 to 0.77293, saving model to /content/drive/My Drive/dataset/model_T.h5\n",
            "Epoch 14/60\n",
            "16421/16421 [==============================] - 32s 2ms/step - loss: 0.7657 - acc: 0.6702 - val_loss: 0.8051 - val_acc: 0.6346\n",
            "\n",
            "Epoch 00014: val_loss did not improve from 0.77293\n",
            "Epoch 15/60\n",
            "16421/16421 [==============================] - 32s 2ms/step - loss: 0.7467 - acc: 0.6772 - val_loss: 0.7899 - val_acc: 0.6672\n",
            "\n",
            "Epoch 00015: val_loss did not improve from 0.77293\n",
            "Epoch 16/60\n",
            "16421/16421 [==============================] - 32s 2ms/step - loss: 0.7378 - acc: 0.6878 - val_loss: 0.7785 - val_acc: 0.6603\n",
            "\n",
            "Epoch 00016: ReduceLROnPlateau reducing learning rate to 0.0008100000384729356.\n",
            "\n",
            "Epoch 00016: val_loss did not improve from 0.77293\n",
            "Epoch 17/60\n",
            "16421/16421 [==============================] - 32s 2ms/step - loss: 0.7047 - acc: 0.7042 - val_loss: 0.7449 - val_acc: 0.6820\n",
            "\n",
            "Epoch 00017: val_loss improved from 0.77293 to 0.74488, saving model to /content/drive/My Drive/dataset/model_T.h5\n",
            "Epoch 18/60\n",
            "16421/16421 [==============================] - 32s 2ms/step - loss: 0.6907 - acc: 0.7153 - val_loss: 0.7181 - val_acc: 0.6869\n",
            "\n",
            "Epoch 00018: val_loss improved from 0.74488 to 0.71808, saving model to /content/drive/My Drive/dataset/model_T.h5\n",
            "Epoch 19/60\n",
            "16421/16421 [==============================] - 32s 2ms/step - loss: 0.6651 - acc: 0.7235 - val_loss: 0.7741 - val_acc: 0.6736\n",
            "\n",
            "Epoch 00019: val_loss did not improve from 0.71808\n",
            "Epoch 20/60\n",
            "16421/16421 [==============================] - 32s 2ms/step - loss: 0.6531 - acc: 0.7352 - val_loss: 0.7241 - val_acc: 0.6854\n",
            "\n",
            "Epoch 00020: val_loss did not improve from 0.71808\n",
            "Epoch 21/60\n",
            "16421/16421 [==============================] - 32s 2ms/step - loss: 0.6391 - acc: 0.7371 - val_loss: 0.6971 - val_acc: 0.7002\n",
            "\n",
            "Epoch 00021: val_loss improved from 0.71808 to 0.69707, saving model to /content/drive/My Drive/dataset/model_T.h5\n",
            "Epoch 22/60\n",
            "16421/16421 [==============================] - 32s 2ms/step - loss: 0.6208 - acc: 0.7512 - val_loss: 0.8883 - val_acc: 0.6100\n",
            "\n",
            "Epoch 00022: val_loss did not improve from 0.69707\n",
            "Epoch 23/60\n",
            "16421/16421 [==============================] - 32s 2ms/step - loss: 0.6033 - acc: 0.7562 - val_loss: 0.7369 - val_acc: 0.6908\n",
            "\n",
            "Epoch 00023: val_loss did not improve from 0.69707\n",
            "Epoch 24/60\n",
            "16421/16421 [==============================] - 32s 2ms/step - loss: 0.5798 - acc: 0.7680 - val_loss: 0.7595 - val_acc: 0.6662\n",
            "\n",
            "Epoch 00024: ReduceLROnPlateau reducing learning rate to 0.0007290000503417104.\n",
            "\n",
            "Epoch 00024: val_loss did not improve from 0.69707\n",
            "Epoch 25/60\n",
            "16421/16421 [==============================] - 32s 2ms/step - loss: 0.5512 - acc: 0.7845 - val_loss: 0.7221 - val_acc: 0.6958\n",
            "\n",
            "Epoch 00025: val_loss did not improve from 0.69707\n",
            "Epoch 26/60\n",
            "16421/16421 [==============================] - 32s 2ms/step - loss: 0.5226 - acc: 0.7908 - val_loss: 0.7090 - val_acc: 0.7027\n",
            "\n",
            "Epoch 00026: val_loss did not improve from 0.69707\n",
            "Epoch 27/60\n",
            "16421/16421 [==============================] - 32s 2ms/step - loss: 0.5044 - acc: 0.8018 - val_loss: 0.7525 - val_acc: 0.7086\n",
            "\n",
            "Epoch 00027: ReduceLROnPlateau reducing learning rate to 0.0006561000715009868.\n",
            "\n",
            "Epoch 00027: val_loss did not improve from 0.69707\n",
            "Epoch 28/60\n",
            "16421/16421 [==============================] - 32s 2ms/step - loss: 0.4675 - acc: 0.8214 - val_loss: 0.7374 - val_acc: 0.7170\n",
            "\n",
            "Epoch 00028: val_loss did not improve from 0.69707\n",
            "Epoch 29/60\n",
            "16421/16421 [==============================] - 32s 2ms/step - loss: 0.4451 - acc: 0.8286 - val_loss: 0.7955 - val_acc: 0.7036\n",
            "\n",
            "Epoch 00029: val_loss did not improve from 0.69707\n",
            "Epoch 30/60\n",
            "16421/16421 [==============================] - 32s 2ms/step - loss: 0.4150 - acc: 0.8400 - val_loss: 0.7380 - val_acc: 0.7170\n",
            "\n",
            "Epoch 00030: ReduceLROnPlateau reducing learning rate to 0.0005904900433961303.\n",
            "\n",
            "Epoch 00030: val_loss did not improve from 0.69707\n",
            "Epoch 31/60\n",
            "16421/16421 [==============================] - 32s 2ms/step - loss: 0.3969 - acc: 0.8496 - val_loss: 0.7693 - val_acc: 0.7263\n",
            "\n",
            "Epoch 00031: val_loss did not improve from 0.69707\n",
            "Epoch 32/60\n",
            "16421/16421 [==============================] - 32s 2ms/step - loss: 0.3731 - acc: 0.8581 - val_loss: 0.7211 - val_acc: 0.7387\n",
            "\n",
            "Epoch 00032: val_loss did not improve from 0.69707\n",
            "Epoch 33/60\n",
            "16421/16421 [==============================] - 32s 2ms/step - loss: 0.3587 - acc: 0.8675 - val_loss: 0.7506 - val_acc: 0.7263\n",
            "\n",
            "Epoch 00033: ReduceLROnPlateau reducing learning rate to 0.0005314410547725857.\n",
            "\n",
            "Epoch 00033: val_loss did not improve from 0.69707\n",
            "Epoch 34/60\n",
            "16421/16421 [==============================] - 32s 2ms/step - loss: 0.3348 - acc: 0.8789 - val_loss: 0.8126 - val_acc: 0.7278\n",
            "\n",
            "Epoch 00034: val_loss did not improve from 0.69707\n",
            "Epoch 35/60\n",
            "16421/16421 [==============================] - 32s 2ms/step - loss: 0.3107 - acc: 0.8859 - val_loss: 0.8585 - val_acc: 0.7273\n",
            "\n",
            "Epoch 00035: val_loss did not improve from 0.69707\n",
            "Epoch 36/60\n",
            "16421/16421 [==============================] - 32s 2ms/step - loss: 0.2979 - acc: 0.8889 - val_loss: 0.8980 - val_acc: 0.7253\n",
            "\n",
            "Epoch 00036: ReduceLROnPlateau reducing learning rate to 0.00047829695977270604.\n",
            "\n",
            "Epoch 00036: val_loss did not improve from 0.69707\n",
            "Epoch 37/60\n",
            "16421/16421 [==============================] - 32s 2ms/step - loss: 0.2805 - acc: 0.9015 - val_loss: 0.8382 - val_acc: 0.7288\n",
            "\n",
            "Epoch 00037: val_loss did not improve from 0.69707\n",
            "Epoch 38/60\n",
            "16421/16421 [==============================] - 32s 2ms/step - loss: 0.2622 - acc: 0.9038 - val_loss: 0.8658 - val_acc: 0.7244\n",
            "\n",
            "Epoch 00038: val_loss did not improve from 0.69707\n",
            "Epoch 39/60\n",
            "16421/16421 [==============================] - 32s 2ms/step - loss: 0.2401 - acc: 0.9122 - val_loss: 0.9008 - val_acc: 0.7214\n",
            "\n",
            "Epoch 00039: ReduceLROnPlateau reducing learning rate to 0.0004304672533180565.\n",
            "\n",
            "Epoch 00039: val_loss did not improve from 0.69707\n",
            "Epoch 40/60\n",
            "16421/16421 [==============================] - 32s 2ms/step - loss: 0.2268 - acc: 0.9182 - val_loss: 0.9199 - val_acc: 0.7145\n",
            "\n",
            "Epoch 00040: val_loss did not improve from 0.69707\n",
            "Epoch 41/60\n",
            "16421/16421 [==============================] - 32s 2ms/step - loss: 0.2220 - acc: 0.9225 - val_loss: 0.9978 - val_acc: 0.7199\n",
            "\n",
            "Epoch 00041: val_loss did not improve from 0.69707\n",
            "Epoch 42/60\n",
            "16421/16421 [==============================] - 32s 2ms/step - loss: 0.2053 - acc: 0.9275 - val_loss: 0.9335 - val_acc: 0.7170\n",
            "\n",
            "Epoch 00042: ReduceLROnPlateau reducing learning rate to 0.00038742052274756136.\n",
            "\n",
            "Epoch 00042: val_loss did not improve from 0.69707\n",
            "Epoch 43/60\n",
            "16421/16421 [==============================] - 32s 2ms/step - loss: 0.1932 - acc: 0.9345 - val_loss: 1.0221 - val_acc: 0.7091\n",
            "\n",
            "Epoch 00043: val_loss did not improve from 0.69707\n",
            "Epoch 44/60\n",
            "16421/16421 [==============================] - 32s 2ms/step - loss: 0.1870 - acc: 0.9375 - val_loss: 1.0404 - val_acc: 0.7332\n",
            "\n",
            "Epoch 00044: val_loss did not improve from 0.69707\n",
            "Epoch 45/60\n",
            "16421/16421 [==============================] - 32s 2ms/step - loss: 0.1799 - acc: 0.9372 - val_loss: 1.0844 - val_acc: 0.7249\n",
            "\n",
            "Epoch 00045: ReduceLROnPlateau reducing learning rate to 0.0003486784757114947.\n",
            "\n",
            "Epoch 00045: val_loss did not improve from 0.69707\n",
            "Epoch 46/60\n",
            "16421/16421 [==============================] - 32s 2ms/step - loss: 0.1727 - acc: 0.9399 - val_loss: 1.0897 - val_acc: 0.7273\n",
            "\n",
            "Epoch 00046: val_loss did not improve from 0.69707\n",
            "Epoch 47/60\n",
            "16421/16421 [==============================] - 32s 2ms/step - loss: 0.1551 - acc: 0.9443 - val_loss: 1.1651 - val_acc: 0.7150\n",
            "\n",
            "Epoch 00047: val_loss did not improve from 0.69707\n",
            "Epoch 48/60\n",
            "16421/16421 [==============================] - 32s 2ms/step - loss: 0.1528 - acc: 0.9492 - val_loss: 1.1977 - val_acc: 0.7219\n",
            "\n",
            "Epoch 00048: ReduceLROnPlateau reducing learning rate to 0.00031381062290165574.\n",
            "\n",
            "Epoch 00048: val_loss did not improve from 0.69707\n",
            "Epoch 49/60\n",
            "16421/16421 [==============================] - 32s 2ms/step - loss: 0.1462 - acc: 0.9522 - val_loss: 1.1603 - val_acc: 0.7322\n",
            "\n",
            "Epoch 00049: val_loss did not improve from 0.69707\n",
            "Epoch 50/60\n",
            "16421/16421 [==============================] - 32s 2ms/step - loss: 0.1382 - acc: 0.9528 - val_loss: 1.1267 - val_acc: 0.7263\n",
            "\n",
            "Epoch 00050: val_loss did not improve from 0.69707\n",
            "Epoch 51/60\n",
            "16421/16421 [==============================] - 32s 2ms/step - loss: 0.1296 - acc: 0.9543 - val_loss: 1.1586 - val_acc: 0.7382\n",
            "\n",
            "Epoch 00051: ReduceLROnPlateau reducing learning rate to 0.0002824295632308349.\n",
            "\n",
            "Epoch 00051: val_loss did not improve from 0.69707\n",
            "Epoch 52/60\n",
            "16421/16421 [==============================] - 32s 2ms/step - loss: 0.1276 - acc: 0.9587 - val_loss: 1.2846 - val_acc: 0.7283\n",
            "\n",
            "Epoch 00052: val_loss did not improve from 0.69707\n",
            "Epoch 53/60\n",
            "16421/16421 [==============================] - 32s 2ms/step - loss: 0.1173 - acc: 0.9609 - val_loss: 1.1709 - val_acc: 0.7239\n",
            "\n",
            "Epoch 00053: val_loss did not improve from 0.69707\n",
            "Epoch 54/60\n",
            "16421/16421 [==============================] - 32s 2ms/step - loss: 0.1171 - acc: 0.9604 - val_loss: 1.2708 - val_acc: 0.7273\n",
            "\n",
            "Epoch 00054: ReduceLROnPlateau reducing learning rate to 0.00025418660952709616.\n",
            "\n",
            "Epoch 00054: val_loss did not improve from 0.69707\n",
            "Epoch 55/60\n",
            "16421/16421 [==============================] - 32s 2ms/step - loss: 0.1047 - acc: 0.9664 - val_loss: 1.2182 - val_acc: 0.7214\n",
            "\n",
            "Epoch 00055: val_loss did not improve from 0.69707\n",
            "Epoch 56/60\n",
            "16421/16421 [==============================] - 32s 2ms/step - loss: 0.1092 - acc: 0.9638 - val_loss: 1.1757 - val_acc: 0.7313\n",
            "\n",
            "Epoch 00056: val_loss did not improve from 0.69707\n",
            "Epoch 57/60\n",
            "16421/16421 [==============================] - 32s 2ms/step - loss: 0.1046 - acc: 0.9655 - val_loss: 1.2466 - val_acc: 0.7342\n",
            "\n",
            "Epoch 00057: ReduceLROnPlateau reducing learning rate to 0.00022876793809700757.\n",
            "\n",
            "Epoch 00057: val_loss did not improve from 0.69707\n",
            "Epoch 58/60\n",
            "16421/16421 [==============================] - 32s 2ms/step - loss: 0.0979 - acc: 0.9670 - val_loss: 1.2569 - val_acc: 0.7318\n",
            "\n",
            "Epoch 00058: val_loss did not improve from 0.69707\n",
            "Epoch 59/60\n",
            "16421/16421 [==============================] - 32s 2ms/step - loss: 0.0913 - acc: 0.9697 - val_loss: 1.3154 - val_acc: 0.7234\n",
            "\n",
            "Epoch 00059: val_loss did not improve from 0.69707\n",
            "Epoch 60/60\n",
            "16421/16421 [==============================] - 32s 2ms/step - loss: 0.0800 - acc: 0.9751 - val_loss: 1.3157 - val_acc: 0.7229\n",
            "\n",
            "Epoch 00060: ReduceLROnPlateau reducing learning rate to 0.00020589114428730683.\n",
            "\n",
            "Epoch 00060: val_loss did not improve from 0.69707\n"
          ],
          "name": "stdout"
        },
        {
          "output_type": "execute_result",
          "data": {
            "text/plain": [
              "<keras.callbacks.History at 0x7fd0e5e3deb8>"
            ]
          },
          "metadata": {
            "tags": []
          },
          "execution_count": 26
        }
      ]
    },
    {
      "cell_type": "code",
      "metadata": {
        "id": "lPh8g6q_CKr-",
        "colab_type": "code",
        "colab": {}
      },
      "source": [
        "#datagen.flow(trainX, trainY, batch_size=batch_size),\n",
        "\n",
        "model.fit_generator(datagen.flow(X_train, y_train, batch_size=batch_size), epochs=1000, \n",
        "          verbose=1,\n",
        "          validation_data=(np.array(X_val), np.array(y_val)),\n",
        "          shuffle=True,\n",
        "          callbacks=[tensorboard, tensorboard, checkpointer])\n",
        "\t"
      ],
      "execution_count": 0,
      "outputs": []
    },
    {
      "cell_type": "code",
      "metadata": {
        "id": "56S60zQauStw",
        "colab_type": "code",
        "colab": {
          "base_uri": "https://localhost:8080/",
          "height": 34
        },
        "outputId": "11cf84de-d298-42bd-d7e6-8faae81d9c12"
      },
      "source": [
        "len(X_train)"
      ],
      "execution_count": 45,
      "outputs": [
        {
          "output_type": "execute_result",
          "data": {
            "text/plain": [
              "16421"
            ]
          },
          "metadata": {
            "tags": []
          },
          "execution_count": 45
        }
      ]
    },
    {
      "cell_type": "code",
      "metadata": {
        "id": "kI7fm10-uY67",
        "colab_type": "code",
        "colab": {
          "base_uri": "https://localhost:8080/",
          "height": 34
        },
        "outputId": "e4e86a9f-7594-4c11-b501-6db0a6e09dca"
      },
      "source": [
        "len(y_train)"
      ],
      "execution_count": 46,
      "outputs": [
        {
          "output_type": "execute_result",
          "data": {
            "text/plain": [
              "16421"
            ]
          },
          "metadata": {
            "tags": []
          },
          "execution_count": 46
        }
      ]
    },
    {
      "cell_type": "code",
      "metadata": {
        "id": "0sxv18LrGptz",
        "colab_type": "code",
        "colab": {
          "base_uri": "https://localhost:8080/",
          "height": 34
        },
        "outputId": "7aba3e03-ba0f-4af8-ce9b-8bda63fb19b2"
      },
      "source": [
        "\t\n",
        "#model.fit_generator(datagen, samples_per_epoch=len(X_train), epochs=100)\n",
        "model_json = model.to_json()\n",
        "with open(\"/tmp/model.json\", \"w\") as json_file:\n",
        "    json_file.write(model_json)\n",
        "# serialize weights to HDF5\n",
        "model.save_weights(\"/tmp/model.h5\")\n",
        "print(\"Saved model to disk\")"
      ],
      "execution_count": 30,
      "outputs": [
        {
          "output_type": "stream",
          "text": [
            "Saved model to disk\n"
          ],
          "name": "stdout"
        }
      ]
    },
    {
      "cell_type": "code",
      "metadata": {
        "id": "BPptlGIf9LTL",
        "colab_type": "code",
        "colab": {
          "base_uri": "https://localhost:8080/",
          "height": 68
        },
        "outputId": "92eaade5-178c-4571-d4fb-1a5d38a4f717"
      },
      "source": [
        "scores = model.evaluate(np.array(X_test), np.array(y_test), batch_size=batch_size)\n",
        "print(\"Loss: \" + str(scores[0]))\n",
        "print(\"Accuracy: \" + str(scores[1]))"
      ],
      "execution_count": 27,
      "outputs": [
        {
          "output_type": "stream",
          "text": [
            "2028/2028 [==============================] - 1s 637us/step\n",
            "Loss: 1.315742569562246\n",
            "Accuracy: 0.722879685005963\n"
          ],
          "name": "stdout"
        }
      ]
    }
  ]
}